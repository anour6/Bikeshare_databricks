{
 "cells": [
  {
   "cell_type": "markdown",
   "metadata": {
    "application/vnd.databricks.v1+cell": {
     "cellMetadata": {},
     "inputWidgets": {},
     "nuid": "e6419588-d8dc-4430-a9db-982ca3b04c37",
     "showTitle": false,
     "title": ""
    }
   },
   "source": [
    "Creating gold database in mounted ADLS container bikesharedata"
   ]
  },
  {
   "cell_type": "code",
   "execution_count": 0,
   "metadata": {
    "application/vnd.databricks.v1+cell": {
     "cellMetadata": {
      "byteLimit": 2048000,
      "rowLimit": 10000
     },
     "inputWidgets": {},
     "nuid": "1c2c392f-7c73-4256-813a-77c5d3a2aaba",
     "showTitle": false,
     "title": ""
    }
   },
   "outputs": [],
   "source": [
    "spark.sql('create database if not exists gold_db location \"/mnt/bikesharestorage/bikesharedata/gold\"')"
   ]
  },
  {
   "cell_type": "markdown",
   "metadata": {
    "application/vnd.databricks.v1+cell": {
     "cellMetadata": {},
     "inputWidgets": {},
     "nuid": "78182210-7db4-4f62-856c-9e4ed58ec6bc",
     "showTitle": false,
     "title": ""
    }
   },
   "source": [
    "Table payments_fact"
   ]
  },
  {
   "cell_type": "code",
   "execution_count": 0,
   "metadata": {
    "application/vnd.databricks.v1+cell": {
     "cellMetadata": {
      "byteLimit": 2048000,
      "rowLimit": 10000
     },
     "inputWidgets": {},
     "nuid": "7fb91c0c-db67-480e-8220-9f132fe1f5bf",
     "showTitle": false,
     "title": ""
    }
   },
   "outputs": [],
   "source": [
    "spark.sql(\"\"\"select \n",
    "payment_id, \n",
    "rider_id, \n",
    "replace(payment_date,'-','') as date_id,\n",
    "payment_date,\n",
    "cast(amount as decimal(10, 2))\n",
    "from bronze_db.payments_bronze\"\"\").write.format('delta').mode('overwrite').saveAsTable('gold_db.payments_fact')"
   ]
  },
  {
   "cell_type": "code",
   "execution_count": 0,
   "metadata": {
    "application/vnd.databricks.v1+cell": {
     "cellMetadata": {
      "byteLimit": 2048000,
      "rowLimit": 10000
     },
     "inputWidgets": {},
     "nuid": "f866d01d-af7d-4365-b885-71c5ce246b1a",
     "showTitle": false,
     "title": ""
    }
   },
   "outputs": [
    {
     "output_type": "stream",
     "name": "stdout",
     "output_type": "stream",
     "text": [
      "Out[22]: DataFrame[payment_id: int, rider_id: int, date_id: string, payment_date: date, amount: decimal(10,2)]"
     ]
    }
   ],
   "source": [
    "spark.sql(' select * from gold_db.payments_fact').show()"
   ]
  },
  {
   "cell_type": "markdown",
   "metadata": {
    "application/vnd.databricks.v1+cell": {
     "cellMetadata": {},
     "inputWidgets": {},
     "nuid": "e7976090-2030-433a-8853-1d7247c1ba34",
     "showTitle": false,
     "title": ""
    }
   },
   "source": [
    "Table stations_dimn"
   ]
  },
  {
   "cell_type": "code",
   "execution_count": 0,
   "metadata": {
    "application/vnd.databricks.v1+cell": {
     "cellMetadata": {
      "byteLimit": 2048000,
      "rowLimit": 10000
     },
     "inputWidgets": {},
     "nuid": "024b499b-f67d-4253-8bbb-3577c5edfa2d",
     "showTitle": false,
     "title": ""
    }
   },
   "outputs": [],
   "source": [
    "spark.sql(\"\"\"select station_id, \n",
    "name, \n",
    "latitude, \n",
    "longitude \n",
    "from bronze_db.stations_bronze\"\"\").write.format('delta').mode('overwrite').saveAsTable('gold_db.stations_dimn')"
   ]
  },
  {
   "cell_type": "code",
   "execution_count": 0,
   "metadata": {
    "application/vnd.databricks.v1+cell": {
     "cellMetadata": {
      "byteLimit": 2048000,
      "rowLimit": 10000
     },
     "inputWidgets": {},
     "nuid": "7972760a-f2e0-4105-a934-eb7ea3c05959",
     "showTitle": false,
     "title": ""
    }
   },
   "outputs": [
    {
     "output_type": "stream",
     "name": "stdout",
     "output_type": "stream",
     "text": [
      "Out[15]: DataFrame[station_id: string, name: string, latitude: float, longitude: float]"
     ]
    }
   ],
   "source": [
    "spark.sql('select * from gold_db.stations_dimn').show()"
   ]
  },
  {
   "cell_type": "markdown",
   "metadata": {
    "application/vnd.databricks.v1+cell": {
     "cellMetadata": {},
     "inputWidgets": {},
     "nuid": "dbe74646-8db4-4400-b394-c61963212cb8",
     "showTitle": false,
     "title": ""
    }
   },
   "source": [
    "Table trips_fact"
   ]
  },
  {
   "cell_type": "code",
   "execution_count": 0,
   "metadata": {
    "application/vnd.databricks.v1+cell": {
     "cellMetadata": {
      "byteLimit": 2048000,
      "rowLimit": 10000
     },
     "inputWidgets": {},
     "nuid": "3e9d78c4-cca0-48c8-945c-b2d87be4dac8",
     "showTitle": false,
     "title": ""
    }
   },
   "outputs": [],
   "source": [
    "spark.sql(\"\"\"select \n",
    "t.trip_id,\n",
    "t.rider_id, \n",
    "t.start_station_id, \n",
    "t.end_station_id, \n",
    "t.started_at as trip_start_time,\n",
    "t.ended_at as trip_end_time,\n",
    "timestampdiff(second, t.started_at, t.ended_at) as trip_duration_in_sec,\n",
    "round(datediff(day, r.birthday, t.started_at)/365, 1) as rider_age_at_trip_start\n",
    "from bronze_db.trips_bronze t\n",
    "JOIN bronze_db.riders_bronze r\n",
    "on t.rider_id = r.rider_id\n",
    "\"\"\").write.format('delta').mode('overwrite').saveAsTable('gold_db.trips_fact')"
   ]
  },
  {
   "cell_type": "code",
   "execution_count": 0,
   "metadata": {
    "application/vnd.databricks.v1+cell": {
     "cellMetadata": {
      "byteLimit": 2048000,
      "rowLimit": 10000
     },
     "inputWidgets": {},
     "nuid": "feec3f1f-eb18-45ac-b761-325f2ce489bb",
     "showTitle": false,
     "title": ""
    }
   },
   "outputs": [
    {
     "output_type": "stream",
     "name": "stdout",
     "output_type": "stream",
     "text": [
      "Out[2]: DataFrame[]"
     ]
    }
   ],
   "source": [
    "spark.sql('select * from  gold_db.trips_fact').show()"
   ]
  },
  {
   "cell_type": "markdown",
   "metadata": {
    "application/vnd.databricks.v1+cell": {
     "cellMetadata": {},
     "inputWidgets": {},
     "nuid": "9d46c9d4-88a3-4f3d-8608-83e4c7f3fb51",
     "showTitle": false,
     "title": ""
    }
   },
   "source": [
    "Table riders_dimn"
   ]
  },
  {
   "cell_type": "code",
   "execution_count": 0,
   "metadata": {
    "application/vnd.databricks.v1+cell": {
     "cellMetadata": {
      "byteLimit": 2048000,
      "rowLimit": 10000
     },
     "inputWidgets": {},
     "nuid": "a28a0b1d-3fb5-486c-a9ef-c6f3f577728c",
     "showTitle": false,
     "title": ""
    }
   },
   "outputs": [],
   "source": [
    "spark.sql(\"\"\"select \n",
    "r.rider_id,\n",
    "r.first,\n",
    "r.last, \n",
    "r.address, \n",
    "r.birthday,\n",
    "r.is_member, \n",
    "r.account_start_date,\n",
    "r.account_end_date,\n",
    "t.rideable_type \n",
    "from bronze_db.riders_bronze r \n",
    "JOIN bronze_db.trips_bronze t \n",
    "on t.rider_id = r.rider_id\"\"\").write.format('delta').mode('overwrite').saveAsTable('gold_db.riders_dimn')"
   ]
  },
  {
   "cell_type": "code",
   "execution_count": 0,
   "metadata": {
    "application/vnd.databricks.v1+cell": {
     "cellMetadata": {
      "byteLimit": 2048000,
      "rowLimit": 10000
     },
     "inputWidgets": {},
     "nuid": "be924fcb-3b93-4934-bce8-f5b2c1f29a5e",
     "showTitle": false,
     "title": ""
    }
   },
   "outputs": [
    {
     "output_type": "stream",
     "name": "stdout",
     "output_type": "stream",
     "text": [
      "Out[21]: DataFrame[rider_id: int, first: string, last: string, address: string, birthday: date, is_member: boolean, account_start_date: date, account_end_date: date, rideable_type: string]"
     ]
    }
   ],
   "source": [
    "spark.sql('select * from gold_db.riders_dimn').show()"
   ]
  },
  {
   "cell_type": "markdown",
   "metadata": {
    "application/vnd.databricks.v1+cell": {
     "cellMetadata": {},
     "inputWidgets": {},
     "nuid": "4482520e-7011-4ab2-8cfa-01c9593773d1",
     "showTitle": false,
     "title": ""
    }
   },
   "source": [
    "Table date_dimn"
   ]
  },
  {
   "cell_type": "code",
   "execution_count": 0,
   "metadata": {
    "application/vnd.databricks.v1+cell": {
     "cellMetadata": {
      "byteLimit": 2048000,
      "rowLimit": 10000
     },
     "inputWidgets": {},
     "nuid": "939c606b-b23e-453c-8b7a-6a93ed5f6145",
     "showTitle": false,
     "title": ""
    }
   },
   "outputs": [],
   "source": [
    "beginDate = '2013-02-01'\n",
    "endDate = '2040-12-31'\n",
    "\n",
    "spark.sql(f\"\"\"select \n",
    "explode(sequence(to_date('{beginDate}'), \n",
    "to_date('{endDate}'), interval 1 day)) as calendarDate\"\"\") \\\n",
    ".createOrReplaceTempView('date_temp')"
   ]
  },
  {
   "cell_type": "code",
   "execution_count": 0,
   "metadata": {
    "application/vnd.databricks.v1+cell": {
     "cellMetadata": {
      "byteLimit": 2048000,
      "rowLimit": 10000
     },
     "inputWidgets": {},
     "nuid": "59762369-f7e6-4ead-97cf-5138f152ca91",
     "showTitle": false,
     "title": ""
    }
   },
   "outputs": [],
   "source": [
    "spark.sql(\"\"\"SELECT\n",
    "replace(calendarDate,'-','') as date_id,\n",
    "p.payment_id as payment_date_key,\n",
    "calendarDate AS calen_date,\n",
    "YEAR(calendarDate) AS year,\n",
    "QUARTER(calendarDate) AS quarter,\n",
    "MONTH(calendarDate) AS month,\n",
    "weekofyear(calendarDate) AS week,\n",
    "DAY(calendarDate) AS day,\n",
    "WEEKDAY(calendarDate) AS day_of_week,\n",
    "date_format(calendarDate,'E') as day_name,\n",
    "date_format(calendarDate,'MMMM') as month_name\n",
    "from date_temp \n",
    "join bronze_db.payments_bronze p\n",
    "ON calendarDate = p.payment_date\n",
    "\"\"\").write.format('delta').mode('overwrite').saveAsTable('gold_db.date_dimn')"
   ]
  },
  {
   "cell_type": "code",
   "execution_count": 0,
   "metadata": {
    "application/vnd.databricks.v1+cell": {
     "cellMetadata": {
      "byteLimit": 2048000,
      "rowLimit": 10000
     },
     "inputWidgets": {},
     "nuid": "7dffe630-733c-431c-b559-32180329ee33",
     "showTitle": false,
     "title": ""
    }
   },
   "outputs": [
    {
     "output_type": "stream",
     "name": "stdout",
     "output_type": "stream",
     "text": [
      "Out[24]: DataFrame[date_id: string, payment_date_key: int, calen_date: date, year: int, quarter: int, month: int, week: int, day: int, day_of_week: int, day_name: string, month_name: string]"
     ]
    }
   ],
   "source": [
    "spark.sql('select * from gold_db.date_dimn').show()"
   ]
  },
  {
   "cell_type": "code",
   "execution_count": 0,
   "metadata": {
    "application/vnd.databricks.v1+cell": {
     "cellMetadata": {},
     "inputWidgets": {},
     "nuid": "a524baaf-795f-44e0-849d-16ba5772f7bb",
     "showTitle": false,
     "title": ""
    }
   },
   "outputs": [],
   "source": []
  }
 ],
 "metadata": {
  "application/vnd.databricks.v1+notebook": {
   "dashboards": [],
   "language": "python",
   "notebookMetadata": {
    "pythonIndentUnit": 4
   },
   "notebookName": "bikeshare_gold",
   "notebookOrigID": 191569341987531,
   "widgets": {}
  }
 },
 "nbformat": 4,
 "nbformat_minor": 0
}
