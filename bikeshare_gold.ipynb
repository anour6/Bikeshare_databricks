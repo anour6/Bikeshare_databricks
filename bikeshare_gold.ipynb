{
 "cells": [
  {
   "cell_type": "markdown",
   "metadata": {
    "application/vnd.databricks.v1+cell": {
     "cellMetadata": {},
     "inputWidgets": {},
     "nuid": "e6419588-d8dc-4430-a9db-982ca3b04c37",
     "showTitle": false,
     "title": ""
    }
   },
   "source": [
    "Creating gold database in mounted ADLS container bikesharedata"
   ]
  },
  {
   "cell_type": "code",
   "execution_count": 0,
   "metadata": {
    "application/vnd.databricks.v1+cell": {
     "cellMetadata": {
      "byteLimit": 2048000,
      "rowLimit": 10000
     },
     "inputWidgets": {},
     "nuid": "1c2c392f-7c73-4256-813a-77c5d3a2aaba",
     "showTitle": false,
     "title": ""
    }
   },
   "outputs": [],
   "source": [
    "spark.sql('create database if not exists gold_db location \"/mnt/bikesharestorage/bikesharedata/gold\"')"
   ]
  },
  {
   "cell_type": "markdown",
   "metadata": {
    "application/vnd.databricks.v1+cell": {
     "cellMetadata": {},
     "inputWidgets": {},
     "nuid": "78182210-7db4-4f62-856c-9e4ed58ec6bc",
     "showTitle": false,
     "title": ""
    }
   },
   "source": [
    "Table payments_fact"
   ]
  },
  {
   "cell_type": "code",
   "execution_count": 0,
   "metadata": {
    "application/vnd.databricks.v1+cell": {
     "cellMetadata": {
      "byteLimit": 2048000,
      "rowLimit": 10000
     },
     "inputWidgets": {},
     "nuid": "7fb91c0c-db67-480e-8220-9f132fe1f5bf",
     "showTitle": false,
     "title": ""
    }
   },
   "outputs": [],
   "source": [
    "spark.sql(\"\"\"select payment_id, \n",
    "rider_id, \n",
    "amount \n",
    "from bronze_db.payments_bronze\"\"\").write.format('delta').mode('overwrite').saveAsTable('gold_db.payments_fact')"
   ]
  },
  {
   "cell_type": "code",
   "execution_count": 0,
   "metadata": {
    "application/vnd.databricks.v1+cell": {
     "cellMetadata": {
      "byteLimit": 2048000,
      "rowLimit": 10000
     },
     "inputWidgets": {},
     "nuid": "f866d01d-af7d-4365-b885-71c5ce246b1a",
     "showTitle": false,
     "title": ""
    }
   },
   "outputs": [
    {
     "output_type": "stream",
     "name": "stdout",
     "output_type": "stream",
     "text": [
      "Out[9]: DataFrame[payment_id: int, rider_id: int, amount: float]"
     ]
    }
   ],
   "source": [
    "spark.sql('select * from gold_db.payments_fact').show()"
   ]
  },
  {
   "cell_type": "markdown",
   "metadata": {
    "application/vnd.databricks.v1+cell": {
     "cellMetadata": {},
     "inputWidgets": {},
     "nuid": "e7976090-2030-433a-8853-1d7247c1ba34",
     "showTitle": false,
     "title": ""
    }
   },
   "source": [
    "Table stations_dimn"
   ]
  },
  {
   "cell_type": "code",
   "execution_count": 0,
   "metadata": {
    "application/vnd.databricks.v1+cell": {
     "cellMetadata": {
      "byteLimit": 2048000,
      "rowLimit": 10000
     },
     "inputWidgets": {},
     "nuid": "024b499b-f67d-4253-8bbb-3577c5edfa2d",
     "showTitle": false,
     "title": ""
    }
   },
   "outputs": [],
   "source": [
    "spark.sql(\"\"\"select station_id, \n",
    "name, \n",
    "latitude, \n",
    "longitude \n",
    "from bronze_db.stations_bronze\"\"\").write.format('delta').mode('overwrite').saveAsTable('gold_db.stations_dimn')"
   ]
  },
  {
   "cell_type": "code",
   "execution_count": 0,
   "metadata": {
    "application/vnd.databricks.v1+cell": {
     "cellMetadata": {
      "byteLimit": 2048000,
      "rowLimit": 10000
     },
     "inputWidgets": {},
     "nuid": "7972760a-f2e0-4105-a934-eb7ea3c05959",
     "showTitle": false,
     "title": ""
    }
   },
   "outputs": [
    {
     "output_type": "stream",
     "name": "stdout",
     "output_type": "stream",
     "text": [
      "Out[15]: DataFrame[station_id: string, name: string, latitude: float, longitude: float]"
     ]
    }
   ],
   "source": [
    "spark.sql('select * from gold_db.stations_dimn').show()"
   ]
  },
  {
   "cell_type": "markdown",
   "metadata": {
    "application/vnd.databricks.v1+cell": {
     "cellMetadata": {},
     "inputWidgets": {},
     "nuid": "dbe74646-8db4-4400-b394-c61963212cb8",
     "showTitle": false,
     "title": ""
    }
   },
   "source": [
    "Table trips_fact"
   ]
  },
  {
   "cell_type": "code",
   "execution_count": 0,
   "metadata": {
    "application/vnd.databricks.v1+cell": {
     "cellMetadata": {
      "byteLimit": 2048000,
      "rowLimit": 10000
     },
     "inputWidgets": {},
     "nuid": "168a2363-6e38-449c-927d-9201ce5ec4b0",
     "showTitle": false,
     "title": ""
    }
   },
   "outputs": [],
   "source": [
    "spark.sql(\"\"\"\n",
    "select t.trip_id,\n",
    " s.station_id, \n",
    " t.start_station_id, \n",
    " t.end_station_id, \n",
    " t.rider_id,\n",
    "(minute(t.ended_at) - minute(t.started_at) + 60) + (((hour(t.ended_at) - hour(t.started_at))- 1)*60) as trip_duration_in_mins,\n",
    "datediff(year, r.birthday, t.started_at) as rider_age_at_trip_start\n",
    "from bronze_db.trips_bronze t\n",
    "join bronze_db.stations_bronze s\n",
    "on s.station_id = t.start_station_id\n",
    "and s.station_id = t.end_station_id\n",
    "JOIN bronze_db.riders_bronze r\n",
    "on t.rider_id = r.rider_id\n",
    "\"\"\").write.format('delta').mode('overwrite').saveAsTable('gold_db.trips_fact')"
   ]
  },
  {
   "cell_type": "code",
   "execution_count": 0,
   "metadata": {
    "application/vnd.databricks.v1+cell": {
     "cellMetadata": {
      "byteLimit": 2048000,
      "rowLimit": 10000
     },
     "inputWidgets": {},
     "nuid": "f0893999-4d84-4ff9-8c16-86afb476486f",
     "showTitle": false,
     "title": ""
    }
   },
   "outputs": [
    {
     "output_type": "stream",
     "name": "stdout",
     "output_type": "stream",
     "text": [
      "Out[20]: DataFrame[trip_id: string, station_id: string, start_station_id: string, end_station_id: string, rider_id: int, trip_duration_in_mins: int, rider_age_at_trip_start: bigint]"
     ]
    }
   ],
   "source": [
    "spark.sql('select * from gold_db.trips_fact').show()"
   ]
  },
  {
   "cell_type": "markdown",
   "metadata": {
    "application/vnd.databricks.v1+cell": {
     "cellMetadata": {},
     "inputWidgets": {},
     "nuid": "9d46c9d4-88a3-4f3d-8608-83e4c7f3fb51",
     "showTitle": false,
     "title": ""
    }
   },
   "source": [
    "Table riders_dimn"
   ]
  },
  {
   "cell_type": "code",
   "execution_count": 0,
   "metadata": {
    "application/vnd.databricks.v1+cell": {
     "cellMetadata": {
      "byteLimit": 2048000,
      "rowLimit": 10000
     },
     "inputWidgets": {},
     "nuid": "a28a0b1d-3fb5-486c-a9ef-c6f3f577728c",
     "showTitle": false,
     "title": ""
    }
   },
   "outputs": [],
   "source": [
    "spark.sql(\"\"\"select r.rider_id,\n",
    "r.first,\n",
    "r.last, \n",
    "r.address, \n",
    "r.is_member, \n",
    "t.rideable_type \n",
    "from bronze_db.riders_bronze r \n",
    "JOIN bronze_db.trips_bronze t \n",
    "on t.rider_id = r.rider_id\"\"\").write.format('delta').mode('overwrite').saveAsTable('gold_db.riders_dimn')"
   ]
  },
  {
   "cell_type": "code",
   "execution_count": 0,
   "metadata": {
    "application/vnd.databricks.v1+cell": {
     "cellMetadata": {
      "byteLimit": 2048000,
      "rowLimit": 10000
     },
     "inputWidgets": {},
     "nuid": "be924fcb-3b93-4934-bce8-f5b2c1f29a5e",
     "showTitle": false,
     "title": ""
    }
   },
   "outputs": [
    {
     "output_type": "stream",
     "name": "stdout",
     "output_type": "stream",
     "text": [
      "Out[25]: DataFrame[rider_id: int, first: string, last: string, address: string, is_member: boolean, rideable_type: string]"
     ]
    }
   ],
   "source": [
    "spark.sql('select * from gold_db.riders_dimn').show()"
   ]
  },
  {
   "cell_type": "markdown",
   "metadata": {
    "application/vnd.databricks.v1+cell": {
     "cellMetadata": {},
     "inputWidgets": {},
     "nuid": "2b51f40d-e668-45f0-882a-beb9838a7424",
     "showTitle": false,
     "title": ""
    }
   },
   "source": [
    "Table pyments_date_dimn"
   ]
  },
  {
   "cell_type": "code",
   "execution_count": 0,
   "metadata": {
    "application/vnd.databricks.v1+cell": {
     "cellMetadata": {
      "byteLimit": 2048000,
      "rowLimit": 10000
     },
     "inputWidgets": {},
     "nuid": "f8130941-8cfa-4700-a8af-b4237560e1ff",
     "showTitle": false,
     "title": ""
    }
   },
   "outputs": [],
   "source": [
    "spark.sql(\"\"\"\n",
    "select p.payment_id as payment_date_key,\n",
    "p.payment_date,\n",
    "year(p.payment_date) as year,\n",
    "month(p.payment_date) as month,\n",
    "quarter(p.payment_date) as quarter,\n",
    "r.account_start_date,\n",
    "r.account_end_date\n",
    "FROM bronze_db.payments_bronze p\n",
    "JOIN bronze_db.riders_bronze r\n",
    "on p.rider_id = r.rider_id\n",
    "\"\"\").write.format('delta').mode('overwrite').saveAsTable('gold_db.payments_date_dimn')\n"
   ]
  },
  {
   "cell_type": "code",
   "execution_count": 0,
   "metadata": {
    "application/vnd.databricks.v1+cell": {
     "cellMetadata": {
      "byteLimit": 2048000,
      "rowLimit": 10000
     },
     "inputWidgets": {},
     "nuid": "f6c9795b-cb9d-4d43-8045-1c1196d57edc",
     "showTitle": false,
     "title": ""
    }
   },
   "outputs": [
    {
     "output_type": "stream",
     "name": "stdout",
     "output_type": "stream",
     "text": [
      "Out[28]: DataFrame[payment_date_key: int, payment_date: date, year: int, month: int, quarter: int, account_start_date: date, account_end_date: date]"
     ]
    }
   ],
   "source": [
    "spark.sql('select * from gold_db.payments_date_dimn').show()"
   ]
  },
  {
   "cell_type": "markdown",
   "metadata": {
    "application/vnd.databricks.v1+cell": {
     "cellMetadata": {},
     "inputWidgets": {},
     "nuid": "4482520e-7011-4ab2-8cfa-01c9593773d1",
     "showTitle": false,
     "title": ""
    }
   },
   "source": [
    "Table trips_date_dimn"
   ]
  },
  {
   "cell_type": "code",
   "execution_count": 0,
   "metadata": {
    "application/vnd.databricks.v1+cell": {
     "cellMetadata": {
      "byteLimit": 2048000,
      "rowLimit": 10000
     },
     "inputWidgets": {},
     "nuid": "939c606b-b23e-453c-8b7a-6a93ed5f6145",
     "showTitle": false,
     "title": ""
    }
   },
   "outputs": [],
   "source": [
    "spark.sql(\"\"\"\n",
    "SELECT trip_id as trip_date_key, \n",
    "started_at as trip_start_date, \n",
    "ended_at as trip_end_date, \n",
    "weekday(started_at) as day_of_week, \n",
    "hour(started_at) as trip_start_hr, \n",
    "minute(started_at) as trip_start_min, \n",
    "hour(ended_at) as trip_end_hr, \n",
    "minute(ended_at) as trip_end_min \n",
    "from bronze_db.trips_bronze\n",
    "\"\"\").write.format('delta').mode('overwrite').saveAsTable('gold_db.trips_date_dimn')"
   ]
  },
  {
   "cell_type": "code",
   "execution_count": 0,
   "metadata": {
    "application/vnd.databricks.v1+cell": {
     "cellMetadata": {
      "byteLimit": 2048000,
      "rowLimit": 10000
     },
     "inputWidgets": {},
     "nuid": "763d0e5b-f3d6-4f51-9a82-a8aa1d06c665",
     "showTitle": false,
     "title": ""
    }
   },
   "outputs": [
    {
     "output_type": "stream",
     "name": "stdout",
     "output_type": "stream",
     "text": [
      "Out[32]: DataFrame[trip_date_key: string, trip_start_date: timestamp, trip_end_date: timestamp, day_of_week: int, trip_start_hr: int, trip_start_min: int, trip_end_hr: int, trip_end_min: int]"
     ]
    }
   ],
   "source": [
    "\n",
    "spark.sql('select * from gold_db.trips_date_dimn').show()"
   ]
  },
  {
   "cell_type": "code",
   "execution_count": 0,
   "metadata": {
    "application/vnd.databricks.v1+cell": {
     "cellMetadata": {},
     "inputWidgets": {},
     "nuid": "3f5603c0-eb84-4b5e-b6a3-9fdbec94b6ab",
     "showTitle": false,
     "title": ""
    }
   },
   "outputs": [],
   "source": []
  }
 ],
 "metadata": {
  "application/vnd.databricks.v1+notebook": {
   "dashboards": [],
   "language": "python",
   "notebookMetadata": {
    "pythonIndentUnit": 4
   },
   "notebookName": "bikeshare_gold",
   "notebookOrigID": 191569341987531,
   "widgets": {}
  }
 },
 "nbformat": 4,
 "nbformat_minor": 0
}
