{
 "cells": [
  {
   "cell_type": "markdown",
   "metadata": {
    "application/vnd.databricks.v1+cell": {
     "cellMetadata": {},
     "inputWidgets": {},
     "nuid": "388c13af-c9a7-4fc4-b4dc-679280d6cd4d",
     "showTitle": false,
     "title": ""
    }
   },
   "source": [
    "Creating bronze database in mounted ADLS container bikesharedata"
   ]
  },
  {
   "cell_type": "code",
   "execution_count": 0,
   "metadata": {
    "application/vnd.databricks.v1+cell": {
     "cellMetadata": {},
     "inputWidgets": {},
     "nuid": "0e9bdea2-b9fe-4422-b732-071a8275b01c",
     "showTitle": false,
     "title": ""
    }
   },
   "outputs": [],
   "source": [
    "spark.sql('create database if not exists bronze_db location \"/mnt/bikesharestorage/bikesharedata/bronze\"')"
   ]
  },
  {
   "cell_type": "markdown",
   "metadata": {
    "application/vnd.databricks.v1+cell": {
     "cellMetadata": {},
     "inputWidgets": {},
     "nuid": "8b426e4f-ca6a-4b93-96d0-3d8f5632d6d2",
     "showTitle": false,
     "title": ""
    }
   },
   "source": [
    "trips_bronze"
   ]
  },
  {
   "cell_type": "code",
   "execution_count": 0,
   "metadata": {
    "application/vnd.databricks.v1+cell": {
     "cellMetadata": {
      "byteLimit": 2048000,
      "rowLimit": 10000
     },
     "inputWidgets": {},
     "nuid": "1abebf99-dd4c-4a32-a4dc-bd8aeb23d855",
     "showTitle": false,
     "title": ""
    }
   },
   "outputs": [],
   "source": [
    "df_trips = spark.read.csv('/mnt/bikesharestorage/bikesharedata/raw/trips.csv', schema='trip_id string, rideable_type string, started_at timestamp, ended_at timestamp, start_station_id string, end_station_id string, rider_id int')"
   ]
  },
  {
   "cell_type": "code",
   "execution_count": 0,
   "metadata": {
    "application/vnd.databricks.v1+cell": {
     "cellMetadata": {
      "byteLimit": 2048000,
      "rowLimit": 10000
     },
     "inputWidgets": {},
     "nuid": "a74cac26-964b-42bc-a3e9-8128403bb380",
     "showTitle": false,
     "title": ""
    }
   },
   "outputs": [],
   "source": [
    "df_trips.write.format('delta').mode('overwrite').saveAsTable('bronze_db.trips_bronze')"
   ]
  },
  {
   "cell_type": "markdown",
   "metadata": {
    "application/vnd.databricks.v1+cell": {
     "cellMetadata": {},
     "inputWidgets": {},
     "nuid": "f47163ba-d962-49fc-b610-88370089094c",
     "showTitle": false,
     "title": ""
    }
   },
   "source": [
    "payments_bronze"
   ]
  },
  {
   "cell_type": "code",
   "execution_count": 0,
   "metadata": {
    "application/vnd.databricks.v1+cell": {
     "cellMetadata": {
      "byteLimit": 2048000,
      "rowLimit": 10000
     },
     "inputWidgets": {},
     "nuid": "490e41db-d3a0-48a0-b616-67420cee95db",
     "showTitle": false,
     "title": ""
    }
   },
   "outputs": [],
   "source": [
    "df_payments = spark.read.csv('/mnt/bikesharestorage/bikesharedata/raw/payments.csv', schema='payment_id int, payment_date date, amount float, rider_id int')"
   ]
  },
  {
   "cell_type": "code",
   "execution_count": 0,
   "metadata": {
    "application/vnd.databricks.v1+cell": {
     "cellMetadata": {
      "byteLimit": 2048000,
      "rowLimit": 10000
     },
     "inputWidgets": {},
     "nuid": "42e8522a-fe5e-4258-b9aa-cf2fd8d5ff76",
     "showTitle": false,
     "title": ""
    }
   },
   "outputs": [],
   "source": [
    "df_payments.write.format('delta').mode('overwrite').saveAsTable('bronze_db.payments_bronze')"
   ]
  },
  {
   "cell_type": "markdown",
   "metadata": {
    "application/vnd.databricks.v1+cell": {
     "cellMetadata": {},
     "inputWidgets": {},
     "nuid": "f09c32fc-85c6-46c3-8adf-43266f8c48bd",
     "showTitle": false,
     "title": ""
    }
   },
   "source": [
    "riders_bronze"
   ]
  },
  {
   "cell_type": "code",
   "execution_count": 0,
   "metadata": {
    "application/vnd.databricks.v1+cell": {
     "cellMetadata": {
      "byteLimit": 2048000,
      "rowLimit": 10000
     },
     "inputWidgets": {},
     "nuid": "869ff5c1-4948-40f1-84f7-42a69f13de04",
     "showTitle": false,
     "title": ""
    }
   },
   "outputs": [],
   "source": [
    "df_riders = spark.read.csv('/mnt/bikesharestorage/bikesharedata/raw/riders.csv', schema='rider_id int, first string, last string, address string, birthday date, account_start_date date, account_end_date date, is_member boolean')"
   ]
  },
  {
   "cell_type": "code",
   "execution_count": 0,
   "metadata": {
    "application/vnd.databricks.v1+cell": {
     "cellMetadata": {
      "byteLimit": 2048000,
      "rowLimit": 10000
     },
     "inputWidgets": {},
     "nuid": "375a1a93-d1ac-44ca-8c20-df46fc72b53d",
     "showTitle": false,
     "title": ""
    }
   },
   "outputs": [],
   "source": [
    "df_riders.write.format('delta').mode('overwrite').saveAsTable('bronze_db.riders_bronze')"
   ]
  },
  {
   "cell_type": "markdown",
   "metadata": {
    "application/vnd.databricks.v1+cell": {
     "cellMetadata": {},
     "inputWidgets": {},
     "nuid": "ca062ac3-9cb7-4070-bcb2-f509fd80af88",
     "showTitle": false,
     "title": ""
    }
   },
   "source": [
    "stations_bronze"
   ]
  },
  {
   "cell_type": "code",
   "execution_count": 0,
   "metadata": {
    "application/vnd.databricks.v1+cell": {
     "cellMetadata": {
      "byteLimit": 2048000,
      "rowLimit": 10000
     },
     "inputWidgets": {},
     "nuid": "fb6b5f9e-d582-4581-ae50-85e0820c79ae",
     "showTitle": false,
     "title": ""
    }
   },
   "outputs": [],
   "source": [
    "df_stations = spark.read.csv('/mnt/bikesharestorage/bikesharedata/raw/stations.csv', schema='Station_id string, name string, latitude float, longitude float')"
   ]
  },
  {
   "cell_type": "code",
   "execution_count": 0,
   "metadata": {
    "application/vnd.databricks.v1+cell": {
     "cellMetadata": {
      "byteLimit": 2048000,
      "rowLimit": 10000
     },
     "inputWidgets": {},
     "nuid": "41eebc47-01cf-4a2f-b381-26b8b37a680c",
     "showTitle": false,
     "title": ""
    }
   },
   "outputs": [],
   "source": [
    "df_stations.write.format('delta').mode('overwrite').saveAsTable('bronze_db.stations_bronze')"
   ]
  },
  {
   "cell_type": "code",
   "execution_count": 0,
   "metadata": {
    "application/vnd.databricks.v1+cell": {
     "cellMetadata": {},
     "inputWidgets": {},
     "nuid": "03af49a9-51d2-4a1b-8d5e-45dc9efc7c67",
     "showTitle": false,
     "title": ""
    }
   },
   "outputs": [],
   "source": []
  }
 ],
 "metadata": {
  "application/vnd.databricks.v1+notebook": {
   "dashboards": [],
   "language": "python",
   "notebookMetadata": {
    "mostRecentlyExecutedCommandWithImplicitDF": {
     "commandId": 326059507530525,
     "dataframes": [
      "_sqldf"
     ]
    },
    "pythonIndentUnit": 4
   },
   "notebookName": "bikeshare_bronze",
   "notebookOrigID": 1825919938103977,
   "widgets": {}
  }
 },
 "nbformat": 4,
 "nbformat_minor": 0
}
